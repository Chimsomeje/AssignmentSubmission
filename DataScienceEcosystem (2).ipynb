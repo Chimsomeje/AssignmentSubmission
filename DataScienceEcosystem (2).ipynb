{
 "cells": [
  {
   "cell_type": "markdown",
   "id": "a3fafd0d-14bd-4429-aea3-65d5487a56dd",
   "metadata": {},
   "source": [
    "# Data Science Tools and Ecosystem"
   ]
  },
  {
   "cell_type": "markdown",
   "id": "0b1a44c1-3604-41f3-aeb4-b0d40cfbef20",
   "metadata": {},
   "source": [
    "In this notebook, Data Science Tools and Ecosystem are summarised."
   ]
  },
  {
   "cell_type": "markdown",
   "id": "d7d021d7-bdbe-4729-ba8b-23deb3945973",
   "metadata": {},
   "source": [
    "**Objectives:**\n",
    "- List of popular tools for Data Science\n",
    "- Commonly used libraries in Data Sceince\n",
    "- Popular languages used in Data Science\n",
    "- Arithmetic expressions"
   ]
  },
  {
   "cell_type": "markdown",
   "id": "7946b5e7-bf2b-4e48-847d-554e87404b20",
   "metadata": {},
   "source": [
    "Some  of the popular languages that Data Scientists use are:\n",
    "1. Python\n",
    "2. R\n",
    "3. Julia"
   ]
  },
  {
   "cell_type": "markdown",
   "id": "5f0f8d68-59c8-45e1-af0f-b422b1c0dd93",
   "metadata": {},
   "source": [
    "Some of the commonly used libraries used by Data Scientists include:\n",
    "1. Numpy\n",
    "2. Pandas \n",
    "3. ggplot\n",
    "   "
   ]
  },
  {
   "cell_type": "markdown",
   "id": "8b0f7469-e950-4868-b35d-895f8c7709e1",
   "metadata": {},
   "source": [
    "| Data Science Tools |\n",
    "----------------------------\n",
    "| Python |\n",
    "| R Studio |\n",
    "| Jupyter Notebook |"
   ]
  },
  {
   "cell_type": "markdown",
   "id": "32a10adb-ccdd-4d08-8419-420676167ad9",
   "metadata": {},
   "source": [
    "### Below are a few examples of evaluating arithmetic expressions in Python"
   ]
  },
  {
   "cell_type": "code",
   "execution_count": 1,
   "id": "ec845362-3893-41f9-873f-225b96390b2f",
   "metadata": {},
   "outputs": [
    {
     "data": {
      "text/plain": [
       "17"
      ]
     },
     "execution_count": 1,
     "metadata": {},
     "output_type": "execute_result"
    }
   ],
   "source": [
    "(3*4)+5\n",
    "#This is a simple arithmetic expression to multiply then add integers"
   ]
  },
  {
   "cell_type": "code",
   "execution_count": 2,
   "id": "10652077-ccb3-497b-aa15-fb7a0f5e81da",
   "metadata": {},
   "outputs": [
    {
     "data": {
      "text/plain": [
       "3.3333333333333335"
      ]
     },
     "execution_count": 2,
     "metadata": {},
     "output_type": "execute_result"
    }
   ],
   "source": [
    "#This will covert 200 minutes to hours by dividing by 60\n",
    "200/60"
   ]
  },
  {
   "cell_type": "markdown",
   "id": "581069ff-9707-4921-a343-73e5543d378e",
   "metadata": {},
   "source": [
    "## Author\n",
    "Chisom Nwafor"
   ]
  },
  {
   "cell_type": "code",
   "execution_count": null,
   "id": "d76c5ffc-82b7-434e-adc0-4b8e5e89dddf",
   "metadata": {},
   "outputs": [],
   "source": []
  }
 ],
 "metadata": {
  "kernelspec": {
   "display_name": "Python 3 (ipykernel)",
   "language": "python",
   "name": "python3"
  },
  "language_info": {
   "codemirror_mode": {
    "name": "ipython",
    "version": 3
   },
   "file_extension": ".py",
   "mimetype": "text/x-python",
   "name": "python",
   "nbconvert_exporter": "python",
   "pygments_lexer": "ipython3",
   "version": "3.11.7"
  }
 },
 "nbformat": 4,
 "nbformat_minor": 5
}
